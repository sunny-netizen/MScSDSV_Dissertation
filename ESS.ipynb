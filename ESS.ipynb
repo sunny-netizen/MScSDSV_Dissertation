{
 "cells": [
  {
   "cell_type": "code",
   "execution_count": 1,
   "id": "6f38b0d9-f83a-4e66-a465-016dfc3d6404",
   "metadata": {},
   "outputs": [],
   "source": [
    "import os\n",
    "import re\n",
    "import numpy as np\n",
    "import pandas as pd\n",
    "import geopandas as gpd\n",
    "import networkx as nx\n",
    "import osmnx as ox\n",
    "import matplotlib as mpl\n",
    "import matplotlib.cm as cm\n",
    "import matplotlib.pyplot as plt\n",
    "import seaborn as sns\n",
    "import sklearn.metrics as sk"
   ]
  },
  {
   "cell_type": "code",
   "execution_count": 2,
   "id": "62803bde-de9d-4d0e-83ae-3c6fee3cc17d",
   "metadata": {},
   "outputs": [
    {
     "name": "stdout",
     "output_type": "stream",
     "text": [
      "Collecting webcolors\n",
      "  Downloading webcolors-1.12-py3-none-any.whl (9.9 kB)\n",
      "Installing collected packages: webcolors\n",
      "Successfully installed webcolors-1.12\n",
      "Note: you may need to restart the kernel to use updated packages.\n"
     ]
    }
   ],
   "source": [
    "pip install webcolors"
   ]
  },
  {
   "cell_type": "code",
   "execution_count": 3,
   "id": "f2e87b9f-fcf1-4e15-b1b3-29adea5eeb35",
   "metadata": {},
   "outputs": [],
   "source": [
    "import webcolors"
   ]
  },
  {
   "cell_type": "code",
   "execution_count": 4,
   "id": "3914c5ce-c7d9-4033-95fc-895b0ba27876",
   "metadata": {},
   "outputs": [
    {
     "name": "stdout",
     "output_type": "stream",
     "text": [
      "(49519, 32)\n"
     ]
    }
   ],
   "source": [
    "ess9 = pd.read_csv(os.path.relpath(\"Data/ESS9-20220626.csv\"))\n",
    "print(ess9.shape)\n",
    "#ess9.iloc[:, [5,9]]"
   ]
  },
  {
   "cell_type": "code",
   "execution_count": 5,
   "id": "e11d3c49-8811-4116-95cf-34ddb1deb08c",
   "metadata": {},
   "outputs": [],
   "source": [
    "#https://www.eea.europa.eu/data-and-maps/data/waterbase-lakes-4/country-codes-and-abbreviations-32-records/country-codes-and-abbreviations-32-records\n",
    "key = ess9.iloc[:, [5,9]]\n",
    "cntrycodes = pd.read_csv(os.path.relpath(\"Data/iso3166_alpha2_codes.csv\"))\n",
    "countrykey = pd.merge(key, cntrycodes, left_on = \"cntry\", right_on = \"ISO2\")\n",
    "novcolor = pd.read_csv(os.path.relpath(\"Data/ColorTablePCmap-20220627.txt\"), sep='\\t', header = None)\n",
    "novcolor.columns = ['country', 'color']\n",
    "novcolor.loc[16,'color'] = 'red1'\n",
    "countrycolors = pd.merge(countrykey, novcolor, how = 'left', left_on = 'Country name', right_on = 'country')\n",
    "countrycolors = countrycolors[['region', 'ISO2', 'country', 'color']]"
   ]
  },
  {
   "cell_type": "code",
   "execution_count": 6,
   "id": "c6756df3-e991-414c-94d4-165e57f0e94a",
   "metadata": {},
   "outputs": [],
   "source": [
    "# remove nonanswer answers\n",
    "#ess9.columns.get_loc(\"ipcrtiv\"), ess9.columns.get_loc(\"impfun\")\n",
    "ess9 = ess9.set_index('region').loc[:, 'ipcrtiv':'impfun']\n",
    "ess9.replace(7, np.NaN, inplace = True)\n",
    "ess9.replace(8, np.NaN, inplace = True)\n",
    "ess9.replace(9, np.NaN, inplace = True)"
   ]
  },
  {
   "cell_type": "code",
   "execution_count": 7,
   "id": "619125ba-6ec7-4e29-aed9-839563fe71c6",
   "metadata": {},
   "outputs": [
    {
     "data": {
      "text/html": [
       "<div>\n",
       "<style scoped>\n",
       "    .dataframe tbody tr th:only-of-type {\n",
       "        vertical-align: middle;\n",
       "    }\n",
       "\n",
       "    .dataframe tbody tr th {\n",
       "        vertical-align: top;\n",
       "    }\n",
       "\n",
       "    .dataframe thead th {\n",
       "        text-align: right;\n",
       "    }\n",
       "</style>\n",
       "<table border=\"1\" class=\"dataframe\">\n",
       "  <thead>\n",
       "    <tr style=\"text-align: right;\">\n",
       "      <th></th>\n",
       "      <th>ipcrtiv</th>\n",
       "      <th>imprich</th>\n",
       "      <th>ipeqopt</th>\n",
       "      <th>ipshabt</th>\n",
       "      <th>impsafe</th>\n",
       "      <th>impdiff</th>\n",
       "      <th>ipfrule</th>\n",
       "      <th>ipudrst</th>\n",
       "      <th>ipmodst</th>\n",
       "      <th>ipgdtim</th>\n",
       "      <th>...</th>\n",
       "      <th>iphlppl</th>\n",
       "      <th>ipsuces</th>\n",
       "      <th>ipstrgv</th>\n",
       "      <th>ipadvnt</th>\n",
       "      <th>ipbhprp</th>\n",
       "      <th>iprspot</th>\n",
       "      <th>iplylfr</th>\n",
       "      <th>impenv</th>\n",
       "      <th>imptrad</th>\n",
       "      <th>impfun</th>\n",
       "    </tr>\n",
       "    <tr>\n",
       "      <th>region</th>\n",
       "      <th></th>\n",
       "      <th></th>\n",
       "      <th></th>\n",
       "      <th></th>\n",
       "      <th></th>\n",
       "      <th></th>\n",
       "      <th></th>\n",
       "      <th></th>\n",
       "      <th></th>\n",
       "      <th></th>\n",
       "      <th></th>\n",
       "      <th></th>\n",
       "      <th></th>\n",
       "      <th></th>\n",
       "      <th></th>\n",
       "      <th></th>\n",
       "      <th></th>\n",
       "      <th></th>\n",
       "      <th></th>\n",
       "      <th></th>\n",
       "      <th></th>\n",
       "    </tr>\n",
       "  </thead>\n",
       "  <tbody>\n",
       "    <tr>\n",
       "      <th>99999</th>\n",
       "      <td>2.000000</td>\n",
       "      <td>6.000000</td>\n",
       "      <td>1.000000</td>\n",
       "      <td>3.000000</td>\n",
       "      <td>4.000000</td>\n",
       "      <td>2.000000</td>\n",
       "      <td>5.000000</td>\n",
       "      <td>2.000000</td>\n",
       "      <td>3.000000</td>\n",
       "      <td>2.000000</td>\n",
       "      <td>...</td>\n",
       "      <td>2.000000</td>\n",
       "      <td>2.000000</td>\n",
       "      <td>5.000000</td>\n",
       "      <td>5.000000</td>\n",
       "      <td>5.000000</td>\n",
       "      <td>5.000000</td>\n",
       "      <td>2.000000</td>\n",
       "      <td>1.000000</td>\n",
       "      <td>5.000000</td>\n",
       "      <td>3.000000</td>\n",
       "    </tr>\n",
       "    <tr>\n",
       "      <th>AT11</th>\n",
       "      <td>2.726190</td>\n",
       "      <td>4.423529</td>\n",
       "      <td>1.940476</td>\n",
       "      <td>2.602410</td>\n",
       "      <td>2.000000</td>\n",
       "      <td>3.642857</td>\n",
       "      <td>2.951807</td>\n",
       "      <td>2.494118</td>\n",
       "      <td>2.811765</td>\n",
       "      <td>2.717647</td>\n",
       "      <td>...</td>\n",
       "      <td>1.951807</td>\n",
       "      <td>2.929412</td>\n",
       "      <td>2.130952</td>\n",
       "      <td>4.258824</td>\n",
       "      <td>2.082353</td>\n",
       "      <td>2.294118</td>\n",
       "      <td>1.529412</td>\n",
       "      <td>1.588235</td>\n",
       "      <td>1.870588</td>\n",
       "      <td>2.917647</td>\n",
       "    </tr>\n",
       "    <tr>\n",
       "      <th>AT12</th>\n",
       "      <td>2.708333</td>\n",
       "      <td>4.111842</td>\n",
       "      <td>2.386813</td>\n",
       "      <td>2.671053</td>\n",
       "      <td>2.103070</td>\n",
       "      <td>3.288840</td>\n",
       "      <td>2.869757</td>\n",
       "      <td>2.521930</td>\n",
       "      <td>3.026374</td>\n",
       "      <td>2.798246</td>\n",
       "      <td>...</td>\n",
       "      <td>2.245077</td>\n",
       "      <td>3.037118</td>\n",
       "      <td>2.039911</td>\n",
       "      <td>4.048035</td>\n",
       "      <td>2.324503</td>\n",
       "      <td>2.447368</td>\n",
       "      <td>1.634573</td>\n",
       "      <td>1.772926</td>\n",
       "      <td>2.531729</td>\n",
       "      <td>2.888158</td>\n",
       "    </tr>\n",
       "    <tr>\n",
       "      <th>AT13</th>\n",
       "      <td>2.258252</td>\n",
       "      <td>3.904669</td>\n",
       "      <td>1.867446</td>\n",
       "      <td>2.736842</td>\n",
       "      <td>2.223301</td>\n",
       "      <td>3.003899</td>\n",
       "      <td>3.159844</td>\n",
       "      <td>2.127202</td>\n",
       "      <td>2.994163</td>\n",
       "      <td>2.526316</td>\n",
       "      <td>...</td>\n",
       "      <td>2.040777</td>\n",
       "      <td>2.753398</td>\n",
       "      <td>2.365759</td>\n",
       "      <td>3.923977</td>\n",
       "      <td>2.430799</td>\n",
       "      <td>2.727984</td>\n",
       "      <td>1.581712</td>\n",
       "      <td>1.813592</td>\n",
       "      <td>3.001946</td>\n",
       "      <td>2.935922</td>\n",
       "    </tr>\n",
       "    <tr>\n",
       "      <th>AT21</th>\n",
       "      <td>2.558282</td>\n",
       "      <td>4.104294</td>\n",
       "      <td>2.006135</td>\n",
       "      <td>2.625767</td>\n",
       "      <td>1.662577</td>\n",
       "      <td>3.300613</td>\n",
       "      <td>3.155280</td>\n",
       "      <td>2.257669</td>\n",
       "      <td>2.705521</td>\n",
       "      <td>2.546584</td>\n",
       "      <td>...</td>\n",
       "      <td>2.024540</td>\n",
       "      <td>2.901235</td>\n",
       "      <td>2.000000</td>\n",
       "      <td>4.202454</td>\n",
       "      <td>2.171779</td>\n",
       "      <td>2.533742</td>\n",
       "      <td>1.693252</td>\n",
       "      <td>1.883436</td>\n",
       "      <td>2.147239</td>\n",
       "      <td>2.732919</td>\n",
       "    </tr>\n",
       "  </tbody>\n",
       "</table>\n",
       "<p>5 rows × 21 columns</p>\n",
       "</div>"
      ],
      "text/plain": [
       "         ipcrtiv   imprich   ipeqopt   ipshabt   impsafe   impdiff   ipfrule  \\\n",
       "region                                                                         \n",
       "99999   2.000000  6.000000  1.000000  3.000000  4.000000  2.000000  5.000000   \n",
       "AT11    2.726190  4.423529  1.940476  2.602410  2.000000  3.642857  2.951807   \n",
       "AT12    2.708333  4.111842  2.386813  2.671053  2.103070  3.288840  2.869757   \n",
       "AT13    2.258252  3.904669  1.867446  2.736842  2.223301  3.003899  3.159844   \n",
       "AT21    2.558282  4.104294  2.006135  2.625767  1.662577  3.300613  3.155280   \n",
       "\n",
       "         ipudrst   ipmodst   ipgdtim  ...   iphlppl   ipsuces   ipstrgv  \\\n",
       "region                                ...                                 \n",
       "99999   2.000000  3.000000  2.000000  ...  2.000000  2.000000  5.000000   \n",
       "AT11    2.494118  2.811765  2.717647  ...  1.951807  2.929412  2.130952   \n",
       "AT12    2.521930  3.026374  2.798246  ...  2.245077  3.037118  2.039911   \n",
       "AT13    2.127202  2.994163  2.526316  ...  2.040777  2.753398  2.365759   \n",
       "AT21    2.257669  2.705521  2.546584  ...  2.024540  2.901235  2.000000   \n",
       "\n",
       "         ipadvnt   ipbhprp   iprspot   iplylfr    impenv   imptrad    impfun  \n",
       "region                                                                        \n",
       "99999   5.000000  5.000000  5.000000  2.000000  1.000000  5.000000  3.000000  \n",
       "AT11    4.258824  2.082353  2.294118  1.529412  1.588235  1.870588  2.917647  \n",
       "AT12    4.048035  2.324503  2.447368  1.634573  1.772926  2.531729  2.888158  \n",
       "AT13    3.923977  2.430799  2.727984  1.581712  1.813592  3.001946  2.935922  \n",
       "AT21    4.202454  2.171779  2.533742  1.693252  1.883436  2.147239  2.732919  \n",
       "\n",
       "[5 rows x 21 columns]"
      ]
     },
     "execution_count": 7,
     "metadata": {},
     "output_type": "execute_result"
    }
   ],
   "source": [
    "# mean value per nut. reg means nutregion\n",
    "ess9reg = ess9.groupby('region').mean()\n",
    "ess9reg.head()\n",
    "# ppca for nan, https://stackoverflow.com/questions/29420737/pca-with-missing-values-in-python\n",
    "# https://ess-search.nsd.no/en/study/bdc7c350-1029-4cb3-9d5e-53f668b8fa74"
   ]
  },
  {
   "cell_type": "code",
   "execution_count": 8,
   "id": "0c483a52-6591-4d90-afef-560f86ffcb46",
   "metadata": {},
   "outputs": [
    {
     "ename": "SyntaxError",
     "evalue": "unexpected EOF while parsing (3183756239.py, line 1)",
     "output_type": "error",
     "traceback": [
      "\u001b[0;36m  File \u001b[0;32m\"/tmp/ipykernel_1412/3183756239.py\"\u001b[0;36m, line \u001b[0;32m1\u001b[0m\n\u001b[0;31m    nuts = gpd.read_file(os.path.relpath('Data/NUTS_RG_20M_2021_4326-20220626.geojson')\u001b[0m\n\u001b[0m                                                                                       ^\u001b[0m\n\u001b[0;31mSyntaxError\u001b[0m\u001b[0;31m:\u001b[0m unexpected EOF while parsing\n"
     ]
    }
   ],
   "source": [
    "nuts = gpd.read_file(os.path.relpath('Data/NUTS_RG_20M_2021_4326-20220626.geojson'))"
   ]
  },
  {
   "cell_type": "code",
   "execution_count": null,
   "id": "632f6268-c23e-4ae3-a812-6e01110cbf1f",
   "metadata": {},
   "outputs": [],
   "source": [
    "gdf_ess9 = pd.merge(nuts, ess9reg, left_on = 'NUTS_ID', right_index = True)"
   ]
  },
  {
   "cell_type": "code",
   "execution_count": null,
   "id": "5826ba32-6681-442e-ac55-ba4ae215e6fc",
   "metadata": {},
   "outputs": [],
   "source": [
    "#Check it looks right\n",
    "fig, ax = plt.subplots(figsize=(12, 10))\n",
    "#euro.plot(ax=ax, )\n",
    "gdf_ess9.plot('impdiff', ax=ax)\n",
    "gdf_nodes.plot(ax=ax, color = 'green') #london\n",
    "ax.axis('off')\n",
    "ax.legend()\n",
    "plt.axis('equal')\n",
    "plt.show()"
   ]
  },
  {
   "cell_type": "code",
   "execution_count": null,
   "id": "5b7f30a2-fe82-4c5c-bbb7-66d04619b2df",
   "metadata": {},
   "outputs": [],
   "source": [
    "place = 'City of London, Greater London, England, United Kingdom'\n",
    "G = ox.graph_from_place(place, network_type='drive', simplify=False)\n",
    "gdf_nodes, gdf_edges = ox.graph_to_gdfs(G)\n",
    "#fig, ax = ox.plot_graph(G)"
   ]
  },
  {
   "cell_type": "code",
   "execution_count": null,
   "id": "37e953dc-774b-451d-8fc9-834b1063a014",
   "metadata": {},
   "outputs": [],
   "source": [
    "ess9nodes = gpd.sjoin(gdf_nodes, gdf_ess9)"
   ]
  },
  {
   "cell_type": "code",
   "execution_count": null,
   "id": "01e3661d-c9cb-4883-953c-fbe90c331358",
   "metadata": {},
   "outputs": [],
   "source": [
    "jumps = [25, 26, 32, 33]\n",
    "\n",
    "for j in jumps:\n",
    "    level = jumps.index(j)\n",
    "    # retrieve the nodes in this jump\n",
    "    jump = pd.read_csv(os.path.relpath(\"run_spercolation_outputs/membTables/membership_p\"+str(j)+'.txt')) \n",
    "    jump['level'] = level\n",
    "    jump = jump[['level', 'node_id', 'cluster_id']]\n",
    "    \n",
    "    # subset clusters of a minimum size\n",
    "    sizes = pd.read_csv(os.path.relpath(\"run_spercolation_outputs/cluster_sizes/clust_size_p\"+str(j)+'.txt'))\n",
    "    clusters = sizes[sizes.cluster_size > 2] \n",
    "    nodes = pd.merge(jump, clusters, on='cluster_id') #.add_suffix(level) \n",
    "\n",
    "    # add the ess9 weights to the nodes in this jump\n",
    "    ess9jumpnodes = pd.merge(ess9nodes, nodes, how = 'right', left_index = True, right_on = 'node_id')\n",
    "    \n",
    "    # find the weighted average ess9 value for each cluster in this jump\n",
    "    ess9jumpclusters = ess9jumpnodes.groupby('cluster_id').mean().sort_values('cluster_size', ascending = False)\n",
    "    \n",
    "    # calculate similarity between two largest clusters\n",
    "    largest = ess9jumpclusters.iloc[[0]].loc[:,'ipcrtiv':'impfun']\n",
    "    larger = ess9jumpclusters.iloc[[1]].loc[:,'ipcrtiv':'impfun']\n",
    "    print(sk.pairwise.cosine_similarity(largest, larger))"
   ]
  },
  {
   "cell_type": "markdown",
   "id": "af0f3fe5-77b9-49f2-aa91-7c16e3b9a7d6",
   "metadata": {},
   "source": [
    "# PCA"
   ]
  },
  {
   "cell_type": "code",
   "execution_count": null,
   "id": "ec79f5df-a8a3-4a6c-ad5d-82fc209ef135",
   "metadata": {},
   "outputs": [],
   "source": [
    "from sklearn.decomposition import PCA \n",
    "pca = PCA(n_components=21, whiten=True) \n",
    "pca.fit(ess9reg)\n",
    "explained_variance = pca.explained_variance_ratio_\n",
    "singular_values = pca.singular_values_"
   ]
  },
  {
   "cell_type": "code",
   "execution_count": null,
   "id": "b3482385-3f83-4817-9598-f1e7e2a3825c",
   "metadata": {},
   "outputs": [],
   "source": [
    "x = np.arange(1,len(explained_variance)+1)\n",
    "plt.plot(x, explained_variance)\n",
    "plt.ylabel('Share of Variance Explained')\n",
    "plt.xticks(np.arange(min(x), max(x)+1, 1.0))\n",
    "plt.show()"
   ]
  },
  {
   "cell_type": "code",
   "execution_count": null,
   "id": "b72bd396-9c43-44a4-a2a9-e89b838624e2",
   "metadata": {},
   "outputs": [],
   "source": [
    "for i in range(0, 20):\n",
    "    print(f\"Component {i:>2} accounts for {explained_variance[i]*100:>2.2f}% of variance\")"
   ]
  },
  {
   "cell_type": "code",
   "execution_count": null,
   "id": "134fa43d-91a5-4795-8b76-07d6485a0548",
   "metadata": {},
   "outputs": [],
   "source": [
    "keep_n_components = 14\n",
    "\n",
    "# If we weren't changing the number of components we\n",
    "# could re-use the pca object created above. \n",
    "pca = PCA(n_components=keep_n_components, whiten=True)\n",
    "\n",
    "X_train = pca.fit_transform(ess9reg)\n",
    "\n",
    "# Notice that we get the _same_ values out,\n",
    "# so this is a *deterministic* process that\n",
    "# is fully replicable (allowing for algorithmic\n",
    "# and programming language differences).\n",
    "for i in range(0, keep_n_components):\n",
    "    print(f\"Component {i:>2} accounts for {pca.explained_variance_ratio_[i]*100:>2.2f}% of variance\")\n",
    "\n",
    "# Notice...\n",
    "print(len(X_train))\n",
    "print(ess9reg.shape[0])\n",
    "# So each observation has a row in X_train and there is \n",
    "# 1 column for each component. This defines the mapping\n",
    "# of the original data space into the reduced one\n",
    "print(len(X_train[0])) "
   ]
  },
  {
   "cell_type": "code",
   "execution_count": null,
   "id": "42145d0d-199a-4982-9d97-9f4e870287a2",
   "metadata": {},
   "outputs": [],
   "source": [
    "for x in [X_train]:\n",
    "    new_columns = []\n",
    "    \n",
    "    for i in range(0,keep_n_components):\n",
    "        new_columns.append([])\n",
    "\n",
    "    for i in x:\n",
    "        for j in range(0,keep_n_components):\n",
    "            new_columns[j].append(i[j])\n",
    "\n",
    "    for i in range(0,keep_n_components):\n",
    "        ess9reg[f\"Component {i+1}\"] = new_columns[i]"
   ]
  },
  {
   "cell_type": "code",
   "execution_count": null,
   "id": "e14b6b12-771b-4cf7-9809-96f8c96da3bb",
   "metadata": {},
   "outputs": [],
   "source": [
    "ess9cntry = pd.merge(ess9reg, countrycolors, left_index = True, right_on = \"region\")"
   ]
  },
  {
   "cell_type": "code",
   "execution_count": null,
   "id": "68ceb729-c687-4966-b5a1-e8ce0da8e7d5",
   "metadata": {},
   "outputs": [],
   "source": [
    "ess9cntry"
   ]
  },
  {
   "cell_type": "code",
   "execution_count": null,
   "id": "a479d34c-9b7d-4d34-bc5e-65bf051aac66",
   "metadata": {},
   "outputs": [],
   "source": [
    "ess9cntry.to_csv(os.path.relpath(\"Data/ess9cntry.csv\"))"
   ]
  },
  {
   "cell_type": "code",
   "execution_count": null,
   "id": "cd15ef00-7fc1-42b1-93ba-014f9995feee",
   "metadata": {},
   "outputs": [],
   "source": [
    "#euro = gpd.read_file(os.path.relpath(\"Data/ref-countries-2020-10m.geojson/CNTR_BN_10M_2020_3035_INLAND.geojson\"))"
   ]
  },
  {
   "cell_type": "raw",
   "id": "d60d51b9-a3ee-46ce-88ab-e8a1a8e89ba7",
   "metadata": {},
   "source": [
    "sns.set(rc={'figure.figsize':(11.7,8.27)})\n",
    "sns.set_style(\"whitegrid\")\n",
    "palette = novcolor['color'].values.all() #pd.Series(novcolor['color'].values,index=novcolor.country).to_dict()\n",
    "sns.scatterplot(data = ess9cntry, x=\"Component 1\", y=\"Component 3\", hue=\"country\", palette = palette);\n",
    "plt.legend(bbox_to_anchor=(1.05, 1), loc=2, borderaxespad=0.);"
   ]
  },
  {
   "cell_type": "raw",
   "id": "89af7210-5399-4ec6-aece-7dca2dab9244",
   "metadata": {},
   "source": [
    "sns.relplot(data=ess9cntry, x=\"Component 1\", y=\"Component 2\", palette=list(novcolor['color'].values), \n",
    "            hue=\"country\", hue_order=list(novcolor['country'].values) )\n",
    "plt.show()"
   ]
  }
 ],
 "metadata": {
  "kernelspec": {
   "display_name": "Python 3 (ipykernel)",
   "language": "python",
   "name": "python3"
  },
  "language_info": {
   "codemirror_mode": {
    "name": "ipython",
    "version": 3
   },
   "file_extension": ".py",
   "mimetype": "text/x-python",
   "name": "python",
   "nbconvert_exporter": "python",
   "pygments_lexer": "ipython3",
   "version": "3.9.6"
  }
 },
 "nbformat": 4,
 "nbformat_minor": 5
}
