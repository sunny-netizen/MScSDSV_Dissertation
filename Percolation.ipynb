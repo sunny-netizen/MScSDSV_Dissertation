{
 "cells": [
  {
   "cell_type": "code",
   "execution_count": 54,
   "id": "c6fb8c51-d32b-4db1-b260-d9aa3f546083",
   "metadata": {},
   "outputs": [],
   "source": [
    "import os\n",
    "import re\n",
    "import numpy as np\n",
    "import pandas as pd\n",
    "import geopandas as gpd\n",
    "import networkx as nx\n",
    "import osmnx as ox\n",
    "import matplotlib as mpl\n",
    "import matplotlib.cm as cm\n",
    "import matplotlib.pyplot as plt\n",
    "import seaborn as sns\n",
    "import sklearn.metrics as sk\n",
    "from scipy import stats"
   ]
  },
  {
   "cell_type": "markdown",
   "id": "fea78569-9b40-4e58-985f-a66d66523657",
   "metadata": {},
   "source": [
    "## TOC:\n",
    "* [Percolation](#Percolation)\n",
    "* [Tree](#Tree)\n",
    "* [Twitter](#Twitter)\n",
    "* [ESS-NUTS](#ESS)\n",
    "* [DNA](#DNA)\n",
    "* [Imagery](#Imagery)\n",
    "* [Bokeh](#Bokeh)"
   ]
  },
  {
   "cell_type": "markdown",
   "id": "f76b4d4c-0e0a-4556-85d6-36918e6503fb",
   "metadata": {},
   "source": [
    "## Pecolation <a class=\"anchor\" id=\"Percolation\"></a>"
   ]
  },
  {
   "cell_type": "markdown",
   "id": "0fbec9a3-dac3-49da-adc0-3e835469a351",
   "metadata": {},
   "source": [
    "### Load cleaned OSM networkx graph"
   ]
  },
  {
   "cell_type": "code",
   "execution_count": 2,
   "id": "ad78a8b8-9f86-46d3-8f1f-f25567b6a3d7",
   "metadata": {},
   "outputs": [],
   "source": [
    "place = 'City of London, Greater London, England, United Kingdom'\n",
    "G = ox.graph_from_place(place, network_type='drive', simplify=False)\n",
    "gdf_nodes, gdf_edges = ox.graph_to_gdfs(G)\n",
    "#fig, ax = ox.plot_graph(G)"
   ]
  },
  {
   "cell_type": "markdown",
   "id": "407db5e7-607f-4686-a1cc-4fb9f3b908e4",
   "metadata": {},
   "source": [
    "#### Save and reformat edgelist"
   ]
  },
  {
   "cell_type": "code",
   "execution_count": 3,
   "id": "cd3d1af3-c383-4f9c-9848-26592697c7b6",
   "metadata": {},
   "outputs": [],
   "source": [
    "nx.write_edgelist(G, os.path.relpath(\"run_spercolation_inputs/london.edgelist\"))"
   ]
  },
  {
   "cell_type": "code",
   "execution_count": 4,
   "id": "7f18e99d-a3c9-479f-b731-93f5daaaacd0",
   "metadata": {},
   "outputs": [],
   "source": [
    "with open(os.path.relpath(\"run_spercolation_inputs/london.edgelist\")) as f:\n",
    "    elist = []\n",
    "    for item in f:\n",
    "        elist.append(item)"
   ]
  },
  {
   "cell_type": "code",
   "execution_count": 5,
   "id": "bf328e4b-1314-48e3-9c1b-16ec9eea9267",
   "metadata": {},
   "outputs": [],
   "source": [
    "edf = pd.DataFrame(elist)\n",
    "edf = edf[0].str.split('{', expand=True)\n",
    "edf[[1,2]] = edf[1].str.split('length', expand=True)\n",
    "edf = edf[[0,2]]\n",
    "edf[['0a','0b', '0c']] = edf[0].str.split(' ', expand=True)\n",
    "edf[['2a','2b']] = edf[2].str.split(' ', expand=True)\n",
    "edf[['2b','2c']] = edf['2b'].str.split('}', expand=True)\n",
    "edf = edf[['0a','0b','2b']]\n",
    "edf.rename(columns={'0a': 'i', '0b': 'j', '2b': 'w'}, inplace=True)\n",
    "edf.set_index('i', inplace = True)\n",
    "edf.to_csv(os.path.relpath(\"run_spercolation_inputs/londonijw.csv\"))"
   ]
  },
  {
   "cell_type": "markdown",
   "id": "b91dc0fb-56ff-43c1-aa84-090bdb408d97",
   "metadata": {},
   "source": [
    "### Run Percolation"
   ]
  },
  {
   "cell_type": "code",
   "execution_count": 99,
   "id": "beabca92-e98b-46e4-b89d-7a3656a08d88",
   "metadata": {},
   "outputs": [],
   "source": [
    "def run_spercolation(input_path, output_path, ps):\n",
    "    \"\"\"\n",
    "    Function that runs the street percolation.\n",
    "    \n",
    "    input_path: path of the edgelist file in the format (i,j,w)\n",
    "    output_path: desideredpath for the output files\n",
    "    ps: array of percolation thresholds\n",
    "    \"\"\"\n",
    "    \n",
    "    #################### Preparing output folders\n",
    "    \n",
    "    #directory for membership tables\n",
    "    dir_res_memb = output_path+'/membTables/' \n",
    "    if not os.path.exists(dir_res_memb): os.makedirs(dir_res_memb)\n",
    "        \n",
    "    #directory for cluster size tables    \n",
    "    dir_clust_size = output_path+\"/cluster_sizes/\"\n",
    "    if not os.path.exists(dir_clust_size): os.makedirs(dir_clust_size)\n",
    "        \n",
    "    #directory for cluster diameter tables    \n",
    "    dir_clust_diam = output_path+\"/cluster_diameters/\"\n",
    "    if not os.path.exists(dir_clust_diam): os.makedirs(dir_clust_diam)\n",
    "        \n",
    "    #file with global threshold info\n",
    "    clusters_info_filename = output_path+\"/clusters_info_p.txt\"\n",
    "    \n",
    "    ########################################\n",
    "    \n",
    "    \n",
    "    #Let us read the file that contains the list of nodes\n",
    "    edgelist = pd.read_csv(input_path, sep=\",\")\n",
    "    edgelist.columns = ['start_point','end_point','length']\n",
    "    \n",
    "    #Creating a file with global info on clusters given threshold p\n",
    "    clusters_info_file = open(clusters_info_filename,'w')\n",
    "    header = \"threshold_p,n_clusters,LCC_id,LCC_size\\n\"\n",
    "    clusters_info_file.write(header)\n",
    "    \n",
    "    for p in ps:\n",
    "        #print('p=', p)\n",
    "    \n",
    "        #find sub-matrix such that all weights <= threshold p\n",
    "        filtered_p = edgelist[edgelist['length']<=p]\n",
    "        #print 'filtered'\n",
    "    \n",
    "        #create graph\n",
    "        G = nx.from_pandas_edgelist(filtered_p, source='start_point', target='end_point', edge_attr='length',\n",
    "                                create_using=nx.Graph())\n",
    "        #print 'graph created'\n",
    "        #nx.draw(G)\n",
    "        \n",
    "        #Creating a membership table file\n",
    "        file_name = dir_res_memb+'membership_'+'p'+str(p)+'.txt'\n",
    "        memb_table_file = open(file_name,'w')\n",
    "        header = \"node_id,cluster_id\\n\"\n",
    "        memb_table_file.write(header)\n",
    "\n",
    "        #Creating a cluster size file\n",
    "        file_name = dir_clust_size+'clust_size_'+'p'+str(p)+'.txt'\n",
    "        cluster_size_file = open(file_name,'w')\n",
    "        header = \"cluster_id,cluster_size\\n\"\n",
    "        cluster_size_file.write(header)\n",
    "        \n",
    "        #Creating a cluster diameter file\n",
    "        file_name = dir_clust_diam+'clust_diam_'+'p'+str(p)+'.txt'\n",
    "        cluster_diam_file = open(file_name,'w')\n",
    "        header = \"cluster_id,cluster_diam\\n\"\n",
    "        cluster_diam_file.write(header)\n",
    "\n",
    "        #Looping over connected components\n",
    "        LCC_size = 0 #initial value to store the size of the LCC\n",
    "        LCC_id = None\n",
    "        for cluster_id, cluster_nodes in enumerate(nx.connected_components(G)):\n",
    "\n",
    "            #Saving cluster size to file\n",
    "            cluster_size = len(cluster_nodes)\n",
    "            line = \"%i,%i\\n\"%(cluster_id, cluster_size)\n",
    "            cluster_size_file.write(line)\n",
    "\n",
    "            #Updating the value for the size of the LCC (I want to find the id)\n",
    "            if cluster_size>LCC_size:\n",
    "                LCC_size = cluster_size\n",
    "                LCC_id = cluster_id\n",
    "\n",
    "            #Looping over nodes in clusters and saving to membership table file \n",
    "            for n in cluster_nodes:\n",
    "                line = \"%i,%i\\n\"%(n,cluster_id)\n",
    "                memb_table_file.write(line)\n",
    "                \n",
    "            g = G.subgraph(cluster_nodes)\n",
    "            cluster_diam = nx.diameter(g)\n",
    "            line = \"%i,%i\\n\"%(cluster_id, cluster_diam)\n",
    "            cluster_diam_file.write(line)\n",
    "            \n",
    "        #Saving global clusters info to file\n",
    "        NCC = cluster_id+1 #last id index +1 since it started from 0\n",
    "        line = str(p)+',%i,%i,%i\\n'%(NCC,LCC_id,LCC_size)\n",
    "        clusters_info_file.write(line)\n",
    "        #print(NCC, 'connected components\\n')\n",
    "\n",
    "        memb_table_file.close()\n",
    "        cluster_size_file.close()\n",
    "        cluster_diam_file.close()\n",
    "\n",
    "    clusters_info_file.close()\n",
    "\n",
    "    return None"
   ]
  },
  {
   "cell_type": "code",
   "execution_count": 139,
   "id": "0a237371-c1c2-4f7d-99b9-768b1ed6814a",
   "metadata": {},
   "outputs": [
    {
     "name": "stdout",
     "output_type": "stream",
     "text": [
      "--- 6.250800848007202 seconds ---\n"
     ]
    }
   ],
   "source": [
    "# Build array of percolation thresholds\n",
    "thresholds = np.arange(5, 20, 1, dtype=int) #50\n",
    "\n",
    "import time\n",
    "start_time = time.time()\n",
    "\n",
    "run_spercolation(os.path.relpath(\"run_spercolation_inputs/londonijw.csv\"), \n",
    "                 os.path.relpath(\"run_spercolation_outputs\"), \n",
    "                 thresholds)\n",
    "\n",
    "print(\"--- %s seconds ---\" % (time.time() - start_time))"
   ]
  },
  {
   "cell_type": "code",
   "execution_count": 150,
   "id": "f9e6ec66-c840-49f0-b0d6-d30de7cb319d",
   "metadata": {},
   "outputs": [
    {
     "data": {
      "image/png": "[encoded data removed]",
      "text/plain": [
       "<Figure size 432x288 with 1 Axes>"
      ]
     },
     "metadata": {
      "needs_background": "light"
     },
     "output_type": "display_data"
    }
   ],
   "source": [
    "# Plot Fractal Dimension\n",
    "\n",
    "'''\n",
    "at each threshold, calculate fractal dimension a of clusters above a certain size\n",
    "for minimum size, see  (see Raimbault for europe), or 600 elsa\n",
    "fractal dimension 'a' is the power law relationship N=r^a , \n",
    "    where N = mass of cluster (number of intersections)\n",
    "    and r = diameter of cluster (longest shortest path)\n",
    "so logN = alogr    and     a = logr / logN    and     a = log(diam) / log(size)     for each threshold \n",
    "'''\n",
    "\n",
    "output_path = os.path.relpath(\"run_spercolation_outputs\")\n",
    "\n",
    "#Reading data\n",
    "clusters_info_filename = output_path + \"/clusters_info_p.txt\"\n",
    "info = pd.read_csv(clusters_info_filename)\n",
    "\n",
    "#file with fractal dimensions\n",
    "fractal_dim_filename = output_path+\"/fractal_dim_p.txt\"\n",
    "\n",
    "#Creating a file with fractal dimension given threshold p\n",
    "fractal_dim_file = open(fractal_dim_filename,'w')\n",
    "header = \"threshold_p,fractal_dim\\n\"\n",
    "fractal_dim_file.write(header)\n",
    "\n",
    "#fractal = pd.DataFrame(columns=['threshold','fractal dimension'])\n",
    "\n",
    "for p in info.threshold_p:\n",
    "    size = pd.read_csv(os.path.relpath(\"run_spercolation_outputs/cluster_sizes/clust_size_p\"+str(p)+'.txt'))\n",
    "    #print(min(size.cluster_size))\n",
    "    #print(len(size))\n",
    "    size = size[size.cluster_size > 1]  # ADJUST MIN SIZE HERE\n",
    "    #print(len(size))\n",
    "    diam = pd.read_csv(os.path.relpath(\"run_spercolation_outputs/cluster_diameters/clust_diam_p\"+str(p)+'.txt'))\n",
    "    #diam.plot(x='cluster_id', y='cluster_diam', kind='scatter')\n",
    "    x = np.log(size.cluster_size) # N = mass of cluster (number of intersections)\n",
    "    y = np.log(diam.cluster_diam) # r = diameter of cluster (longest shortest path)\n",
    "    #plt.scatter(x, y);\n",
    "    slope, intercept, r_value, p_value, std_err = stats.linregress(x,y)\n",
    "    a = slope # a = fractal dimension\n",
    "    \n",
    "    #Saving fractal dimensions to file\n",
    "    line = str(p) + ',' + str(a) + '\\n' #'{}{}\\n'.format(p,a) #  '%i'%(p) + str(a) + '\\n'\n",
    "    fractal_dim_file.write(line)\n",
    "\n",
    "fractal_dim_file.close()\n",
    "\n",
    "fractal = pd.read_csv(os.path.relpath(\"run_spercolation_outputs/fractal_dim_p.txt\"))\n",
    "plt.scatter(fractal.threshold_p, fractal.fractal_dim);\n",
    "plt.plot(fractal.threshold_p, fractal.fractal_dim);\n",
    "plt.title('Fractal Dimension')\n",
    "plt.xlabel('Threshold')\n",
    "plt.ylabel('Fractal Dimension')\n",
    "plt.show()\n",
    "    \n",
    "    \n",
    "#spearman's with spatial lag\n",
    "#gwr. \n",
    "#Rank Size,\n"
   ]
  },
  {
   "cell_type": "code",
   "execution_count": 151,
   "id": "e2edc53c-2362-42c7-af2e-58a1f53d6b0e",
   "metadata": {},
   "outputs": [
    {
     "data": {
      "image/png": "[encoded data removed]",
      "text/plain": [
       "<Figure size 432x288 with 1 Axes>"
      ]
     },
     "metadata": {
      "needs_background": "light"
     },
     "output_type": "display_data"
    }
   ],
   "source": [
    "# Plot Largest Connected Cluster\n",
    "\n",
    "output_path = os.path.relpath(\"run_spercolation_outputs\")\n",
    "fig, ax = plt.subplots() #figsize=(5, 2.7)\n",
    "\n",
    "#Reading data\n",
    "clusters_info_filename = output_path + \"/clusters_info_p.txt\"\n",
    "info = pd.read_csv(clusters_info_filename)\n",
    "\n",
    "x = info['threshold_p']\n",
    "y = info['LCC_size']/info['LCC_size'].max()\n",
    "\n",
    "#Plotting\n",
    "import matplotlib.ticker as ticker\n",
    "plt.rcParams['xtick.major.width'] = 1.2\n",
    "plt.rcParams['ytick.major.width'] = 1.2\n",
    "plt.rcParams['axes.linewidth'] = 1.2\n",
    "\n",
    "rangec = np.linspace(0.2,0.95,5)\n",
    "colors = [plt.cm.YlGnBu(i) for i in rangec]\n",
    "\n",
    "ax.plot(x, y,'o-', markersize=7, color=colors[1], clip_on=True, mfc=colors[1],\n",
    "    mec=colors[1], lw=2, label='Size LCC')\n",
    "\n",
    "ax.set_xlabel(r'Percolation threshold, $p$ (meters)', size=16)\n",
    "ax.set_ylabel('Size LCC', size=16)\n",
    "ax.tick_params(axis='both', which='major', labelsize=16)\n",
    "\n",
    "plt.axvline(x=25, linewidth=0.7)\n",
    "plt.axvline(x=26, linewidth=0.7)\n",
    "plt.axvline(x=32, linewidth=0.7)\n",
    "plt.axvline(x=33, linewidth=0.7)\n",
    "plt.tight_layout()\n"
   ]
  },
  {
   "cell_type": "code",
   "execution_count": 19,
   "id": "be39e1d8-bc74-4dbe-99d6-b771c6987742",
   "metadata": {},
   "outputs": [],
   "source": [
    "# Select Jumps\n",
    "jumps = [25, 26, 32, 33]"
   ]
  },
  {
   "cell_type": "code",
   "execution_count": 25,
   "id": "cfc47117-46fc-4af5-89c4-57526fc5f033",
   "metadata": {},
   "outputs": [
    {
     "ename": "NameError",
     "evalue": "name 'jumps' is not defined",
     "output_type": "error",
     "traceback": [
      "\u001b[0;31m---------------------------------------------------------------------------\u001b[0m",
      "\u001b[0;31mNameError\u001b[0m                                 Traceback (most recent call last)",
      "\u001b[0;32m/tmp/ipykernel_336/4075664853.py\u001b[0m in \u001b[0;36m<module>\u001b[0;34m\u001b[0m\n\u001b[1;32m      1\u001b[0m \u001b[0;31m#Plot largest cluster in each jump\u001b[0m\u001b[0;34m\u001b[0m\u001b[0;34m\u001b[0m\u001b[0;34m\u001b[0m\u001b[0m\n\u001b[0;32m----> 2\u001b[0;31m \u001b[0;32mfor\u001b[0m \u001b[0mmoment\u001b[0m \u001b[0;32min\u001b[0m \u001b[0mjumps\u001b[0m\u001b[0;34m:\u001b[0m\u001b[0;34m\u001b[0m\u001b[0;34m\u001b[0m\u001b[0m\n\u001b[0m\u001b[1;32m      3\u001b[0m     \u001b[0mprint\u001b[0m\u001b[0;34m(\u001b[0m\u001b[0;34m'threshold = '\u001b[0m \u001b[0;34m+\u001b[0m \u001b[0mstr\u001b[0m\u001b[0;34m(\u001b[0m\u001b[0mmoment\u001b[0m\u001b[0;34m)\u001b[0m\u001b[0;34m)\u001b[0m\u001b[0;34m\u001b[0m\u001b[0;34m\u001b[0m\u001b[0m\n\u001b[1;32m      4\u001b[0m \u001b[0;34m\u001b[0m\u001b[0m\n\u001b[1;32m      5\u001b[0m     \u001b[0;31m# find LCC_id in clusters_info_p.txt\u001b[0m\u001b[0;34m\u001b[0m\u001b[0;34m\u001b[0m\u001b[0;34m\u001b[0m\u001b[0m\n",
      "\u001b[0;31mNameError\u001b[0m: name 'jumps' is not defined"
     ]
    }
   ],
   "source": [
    "#Plot largest cluster in each jump\n",
    "\n",
    "for moment in jumps:\n",
    "    print('threshold = ' + str(moment))\n",
    "    \n",
    "    # find LCC_id in clusters_info_p.txt\n",
    "    #info = pd.read_csv(os.path.relpath(\"run_spercolation_outputs/clusters_info_p.txt\"))  #already loaded\n",
    "    lccid = info[info['threshold_p'] == moment]['LCC_id'].values[0]\n",
    "    lccsize = info[info['threshold_p'] == moment]['LCC_size'].values[0]\n",
    "    print('LCC_id = ' + str(lccid) +', LCC_size = ' + str(lccsize))\n",
    "    \n",
    "    # find 2nd LCC_id from membTables\n",
    "    memb = pd.read_csv(os.path.relpath(\"run_spercolation_outputs/membTables/membership_p\" + str(moment) + '.txt'))\n",
    "    lccid2 = memb.groupby('cluster_id').count().sort_values('node_id', ascending = False).iloc[[1]].index[0]\n",
    "    lccsize2 = memb.groupby('cluster_id').count().sort_values('node_id', ascending = False).iloc[[1]].node_id.values[0]\n",
    "    print('LCC2_id = ' + str(lccid2) +', LCC2_size = ' + str(lccsize2))\n",
    "    \n",
    "    # find nodes in LCC_id in membTables\n",
    "    lccnodes = memb[memb.cluster_id == lccid]\n",
    "    lccnodes2 = memb[memb.cluster_id == lccid2]\n",
    "    \n",
    "    # plot nodes over london\n",
    "    # fig, ax = ox.plot_graph(G.subgraph([1832666032, 1637578546, 8787692633]))\n",
    "    #fig, ax = ox.plot_graph( G )\n",
    "    #fig, ax = ox.plot_graph( G.subgraph( memb[memb['cluster_id']==lccid][\"node_id\"].tolist() ) )\n",
    "    #nx.draw(S)\n",
    "    \n",
    "    # Plot clusters in each jump\n",
    "    geo1 = pd.merge(gdf_nodes, lccnodes, right_on = 'node_id', left_on = 'osmid')\n",
    "    geo2 = pd.merge(gdf_nodes, lccnodes2, right_on = 'node_id', left_on = 'osmid')\n",
    "    base = gdf_nodes.plot()\n",
    "    #fig, ax = ox.plot_graph(G)\n",
    "    geo1.plot(ax = base, column = 'cluster_id', color='pink')\n",
    "    geo2.plot(ax = base, column = 'cluster_id', cmap='skyblue')\n"
   ]
  },
  {
   "cell_type": "code",
   "execution_count": null,
   "id": "b96860b1-37b2-436f-97fd-08f91a8ac6fb",
   "metadata": {},
   "outputs": [],
   "source": [
    "# Tree\n",
    "\n",
    "jumps = [25, 26, 32, 33]\n",
    "\n",
    "for j in jumps:\n",
    "    # tree level of this jump\n",
    "    level = jumps.index(j)\n",
    "    # retrieve the nodes in this jump\n",
    "    jump = pd.read_csv(os.path.relpath(\"run_spercolation_outputs/membTables/membership_p\"+str(j)+'.txt')) \n",
    "    jump['level'] = level\n",
    "    jump = jump[['level', 'node_id', 'cluster_id']]\n",
    "    \n",
    "    # subset clusters of a minimum size\n",
    "    sizes = pd.read_csv(os.path.relpath(\"run_spercolation_outputs/cluster_sizes/clust_size_p\"+str(j)+'.txt'))\n",
    "    clusters = sizes[sizes.cluster_size > 2] \n",
    "    nodes = pd.merge(jump, clusters, on='cluster_id').add_suffix(level) \n",
    "    \n",
    "    # first jump (tree roottips, smallest cluster sizes)\n",
    "    if level == 0:\n",
    "        forest = nodes.copy()\n",
    "        edgelist = pd.DataFrame(columns=['Child','Parent','Child_Level','Parent_Level'])\n",
    "        sizelist = forest[['cluster_id' + str(level), 'cluster_size' + str(level), 'level' + str(level)]]\n",
    "        sizelist = sizelist[sizelist.duplicated() == False]\n",
    "        sizelist.columns = ['Cluster','Size','Level']\n",
    "    \n",
    "    else:\n",
    "        # in the cluster forest, branches that don't make it to the apex die\n",
    "        forest = pd.merge(forest, nodes, how = 'right',\n",
    "                          left_on = forest.columns[1], right_on = nodes.columns[1])\n",
    "        \n",
    "        edgelist_ = forest[['cluster_id' + str(level - 1), 'cluster_id' + str(level), 'level' + str(level - 1), 'level' + str(level)]]\n",
    "        edgelist_ = edgelist_[edgelist_.duplicated() == False]\n",
    "        edgelist_.columns = ['Child','Parent','Child_Level','Parent_Level']\n",
    "        edgelist = pd.concat([edgelist, edgelist_])\n",
    "        \n",
    "        sizelist_ = forest[['cluster_id' + str(level), 'cluster_size' + str(level), 'level' + str(level)]]\n",
    "        sizelist_ = sizelist_[sizelist_.duplicated() == False]\n",
    "        sizelist_.columns = ['Cluster','Size','Level']\n",
    "        sizelist = pd.concat([sizelist, sizelist_])"
   ]
  },
  {
   "cell_type": "markdown",
   "id": "ec8b98c6-a7fb-4e0d-bcba-61ebde996487",
   "metadata": {},
   "source": [
    "## TOC:\n",
    "* [Percolation](#Percolation)\n",
    "* [Tree](#Tree)\n",
    "* [Twitter](#Twitter)\n",
    "* [ESS-NUTS](#ESS)\n",
    "* [DNA](#DNA)\n",
    "* [Imagery](#Imagery)\n",
    "* [Bokeh](#Bokeh)"
   ]
  },
  {
   "cell_type": "markdown",
   "id": "90e1f8b9-93a0-4381-ac57-97702a28d984",
   "metadata": {},
   "source": [
    "## Twitter <a class=\"anchor\" id=\"Twitter\"></a>"
   ]
  },
  {
   "cell_type": "raw",
   "id": "5dc64097-0730-48b6-801d-732a3c55de68",
   "metadata": {},
   "source": [
    "pip install tweepy"
   ]
  },
  {
   "cell_type": "code",
   "execution_count": 10,
   "id": "66a3d173-24f9-4921-bd51-96a476f51779",
   "metadata": {},
   "outputs": [],
   "source": [
    "import tweepy as tw"
   ]
  },
  {
   "cell_type": "code",
   "execution_count": null,
   "id": "8e0004d3-c54f-4e6b-b1e4-37c528bec382",
   "metadata": {},
   "outputs": [],
   "source": [
    "consumer_key = 'OhodPre22PW05EhvnRMcDhBvW'   #API_Key\n",
    "consumer_secret = 'a3mj4spvrFsiW2WQ249YLqQdTWZJ2d1fM6tsFpB8qS5E7ui9gL' #API_Key_Secret\n",
    "bearer_token = 'AAAAAAAAAAAAAAAAAAAAAFJTcwEAAAAA9BqCpM7oqfUOBGY27GqunjvjERY%3Ds5HZgaNtbVN0uGYAjxxFCiLe06t1Q2Kmvtr5xaWH8BM1cGZepe'\n",
    "access_token = '4819546558-yxe5pPjXBsPF6e11M24dhNaRLS3DNdYS7fPTZ89'\n",
    "access_token_secret = '3qRpq5mNjIzjDkOFelXiPYWVR21gA1sziNHxeBCkN1gnT'"
   ]
  },
  {
   "cell_type": "code",
   "execution_count": null,
   "id": "32bf2b3a-a7da-4819-a6bb-9011a55f4be7",
   "metadata": {},
   "outputs": [],
   "source": [
    "auth = tweepy.OAuth1UserHandler(\n",
    "   consumer_key, consumer_secret, access_token, access_token_secret\n",
    ")\n",
    "\n",
    "api = tweepy.API(auth)"
   ]
  },
  {
   "cell_type": "markdown",
   "id": "162e4e97-816c-4529-994e-e7a2218e915d",
   "metadata": {},
   "source": [
    "## TOC:\n",
    "* [Percolation](#Percolation)\n",
    "* [Tree](#Tree)\n",
    "* [Twitter](#Twitter)\n",
    "* [ESS-NUTS](#ESS)\n",
    "* [DNA](#DNA)\n",
    "* [Imagery](#Imagery)\n",
    "* [Bokeh](#Bokeh)"
   ]
  },
  {
   "cell_type": "markdown",
   "id": "c9b40b0d-45f4-4c8b-b9f9-064a594daf75",
   "metadata": {},
   "source": [
    "# ESS"
   ]
  },
  {
   "cell_type": "code",
   "execution_count": 21,
   "id": "8f47a89e-f157-4079-836b-d3574fbbde68",
   "metadata": {},
   "outputs": [
    {
     "name": "stdout",
     "output_type": "stream",
     "text": [
      "(49519, 32)\n"
     ]
    }
   ],
   "source": [
    "ess9 = pd.read_csv(os.path.relpath(\"Data/ESS9-20220626.csv\"))\n",
    "print(ess9.shape)\n",
    "#ess9.iloc[:, [5,9]]"
   ]
  },
  {
   "cell_type": "code",
   "execution_count": 22,
   "id": "2c31f408-c429-43f5-9148-85d765aad73a",
   "metadata": {},
   "outputs": [],
   "source": [
    "#https://www.eea.europa.eu/data-and-maps/data/waterbase-lakes-4/country-codes-and-abbreviations-32-records/country-codes-and-abbreviations-32-records\n",
    "key = ess9.iloc[:, [5,9]]\n",
    "cntrycodes = pd.read_csv(os.path.relpath(\"Data/iso3166_alpha2_codes.csv\"))\n",
    "countrykey = pd.merge(key, cntrycodes, left_on = \"cntry\", right_on = \"ISO2\")\n",
    "novcolor = pd.read_csv(os.path.relpath(\"Data/ColorTablePCmap-20220627.txt\"), sep='\\t', header = None)\n",
    "novcolor.columns = ['country', 'color']\n",
    "novcolor.loc[16,'color'] = 'red1'\n",
    "countrycolors = pd.merge(countrykey, novcolor, how = 'left', left_on = 'Country name', right_on = 'country')\n",
    "countrycolors = countrycolors[['region', 'ISO2', 'country', 'color']]"
   ]
  },
  {
   "cell_type": "code",
   "execution_count": 23,
   "id": "ff6aa4b6-7a17-45ea-8d2a-73c7969ce521",
   "metadata": {},
   "outputs": [],
   "source": [
    "# remove nonanswer answers\n",
    "#ess9.columns.get_loc(\"ipcrtiv\"), ess9.columns.get_loc(\"impfun\")\n",
    "ess9 = ess9.set_index('region').loc[:, 'ipcrtiv':'impfun']\n",
    "ess9.replace(7, np.NaN, inplace = True)\n",
    "ess9.replace(8, np.NaN, inplace = True)\n",
    "ess9.replace(9, np.NaN, inplace = True)"
   ]
  },
  {
   "cell_type": "code",
   "execution_count": 24,
   "id": "fc7cbaa7-9e5d-4b29-a9ca-b405f87132ec",
   "metadata": {},
   "outputs": [
    {
     "data": {
      "text/html": [
       "<div>\n",
       "<style scoped>\n",
       "    .dataframe tbody tr th:only-of-type {\n",
       "        vertical-align: middle;\n",
       "    }\n",
       "\n",
       "    .dataframe tbody tr th {\n",
       "        vertical-align: top;\n",
       "    }\n",
       "\n",
       "    .dataframe thead th {\n",
       "        text-align: right;\n",
       "    }\n",
       "</style>\n",
       "<table border=\"1\" class=\"dataframe\">\n",
       "  <thead>\n",
       "    <tr style=\"text-align: right;\">\n",
       "      <th></th>\n",
       "      <th>ipcrtiv</th>\n",
       "      <th>imprich</th>\n",
       "      <th>ipeqopt</th>\n",
       "      <th>ipshabt</th>\n",
       "      <th>impsafe</th>\n",
       "      <th>impdiff</th>\n",
       "      <th>ipfrule</th>\n",
       "      <th>ipudrst</th>\n",
       "      <th>ipmodst</th>\n",
       "      <th>ipgdtim</th>\n",
       "      <th>...</th>\n",
       "      <th>iphlppl</th>\n",
       "      <th>ipsuces</th>\n",
       "      <th>ipstrgv</th>\n",
       "      <th>ipadvnt</th>\n",
       "      <th>ipbhprp</th>\n",
       "      <th>iprspot</th>\n",
       "      <th>iplylfr</th>\n",
       "      <th>impenv</th>\n",
       "      <th>imptrad</th>\n",
       "      <th>impfun</th>\n",
       "    </tr>\n",
       "    <tr>\n",
       "      <th>region</th>\n",
       "      <th></th>\n",
       "      <th></th>\n",
       "      <th></th>\n",
       "      <th></th>\n",
       "      <th></th>\n",
       "      <th></th>\n",
       "      <th></th>\n",
       "      <th></th>\n",
       "      <th></th>\n",
       "      <th></th>\n",
       "      <th></th>\n",
       "      <th></th>\n",
       "      <th></th>\n",
       "      <th></th>\n",
       "      <th></th>\n",
       "      <th></th>\n",
       "      <th></th>\n",
       "      <th></th>\n",
       "      <th></th>\n",
       "      <th></th>\n",
       "      <th></th>\n",
       "    </tr>\n",
       "  </thead>\n",
       "  <tbody>\n",
       "    <tr>\n",
       "      <th>99999</th>\n",
       "      <td>2.000000</td>\n",
       "      <td>6.000000</td>\n",
       "      <td>1.000000</td>\n",
       "      <td>3.000000</td>\n",
       "      <td>4.000000</td>\n",
       "      <td>2.000000</td>\n",
       "      <td>5.000000</td>\n",
       "      <td>2.000000</td>\n",
       "      <td>3.000000</td>\n",
       "      <td>2.000000</td>\n",
       "      <td>...</td>\n",
       "      <td>2.000000</td>\n",
       "      <td>2.000000</td>\n",
       "      <td>5.000000</td>\n",
       "      <td>5.000000</td>\n",
       "      <td>5.000000</td>\n",
       "      <td>5.000000</td>\n",
       "      <td>2.000000</td>\n",
       "      <td>1.000000</td>\n",
       "      <td>5.000000</td>\n",
       "      <td>3.000000</td>\n",
       "    </tr>\n",
       "    <tr>\n",
       "      <th>AT11</th>\n",
       "      <td>2.726190</td>\n",
       "      <td>4.423529</td>\n",
       "      <td>1.940476</td>\n",
       "      <td>2.602410</td>\n",
       "      <td>2.000000</td>\n",
       "      <td>3.642857</td>\n",
       "      <td>2.951807</td>\n",
       "      <td>2.494118</td>\n",
       "      <td>2.811765</td>\n",
       "      <td>2.717647</td>\n",
       "      <td>...</td>\n",
       "      <td>1.951807</td>\n",
       "      <td>2.929412</td>\n",
       "      <td>2.130952</td>\n",
       "      <td>4.258824</td>\n",
       "      <td>2.082353</td>\n",
       "      <td>2.294118</td>\n",
       "      <td>1.529412</td>\n",
       "      <td>1.588235</td>\n",
       "      <td>1.870588</td>\n",
       "      <td>2.917647</td>\n",
       "    </tr>\n",
       "    <tr>\n",
       "      <th>AT12</th>\n",
       "      <td>2.708333</td>\n",
       "      <td>4.111842</td>\n",
       "      <td>2.386813</td>\n",
       "      <td>2.671053</td>\n",
       "      <td>2.103070</td>\n",
       "      <td>3.288840</td>\n",
       "      <td>2.869757</td>\n",
       "      <td>2.521930</td>\n",
       "      <td>3.026374</td>\n",
       "      <td>2.798246</td>\n",
       "      <td>...</td>\n",
       "      <td>2.245077</td>\n",
       "      <td>3.037118</td>\n",
       "      <td>2.039911</td>\n",
       "      <td>4.048035</td>\n",
       "      <td>2.324503</td>\n",
       "      <td>2.447368</td>\n",
       "      <td>1.634573</td>\n",
       "      <td>1.772926</td>\n",
       "      <td>2.531729</td>\n",
       "      <td>2.888158</td>\n",
       "    </tr>\n",
       "    <tr>\n",
       "      <th>AT13</th>\n",
       "      <td>2.258252</td>\n",
       "      <td>3.904669</td>\n",
       "      <td>1.867446</td>\n",
       "      <td>2.736842</td>\n",
       "      <td>2.223301</td>\n",
       "      <td>3.003899</td>\n",
       "      <td>3.159844</td>\n",
       "      <td>2.127202</td>\n",
       "      <td>2.994163</td>\n",
       "      <td>2.526316</td>\n",
       "      <td>...</td>\n",
       "      <td>2.040777</td>\n",
       "      <td>2.753398</td>\n",
       "      <td>2.365759</td>\n",
       "      <td>3.923977</td>\n",
       "      <td>2.430799</td>\n",
       "      <td>2.727984</td>\n",
       "      <td>1.581712</td>\n",
       "      <td>1.813592</td>\n",
       "      <td>3.001946</td>\n",
       "      <td>2.935922</td>\n",
       "    </tr>\n",
       "    <tr>\n",
       "      <th>AT21</th>\n",
       "      <td>2.558282</td>\n",
       "      <td>4.104294</td>\n",
       "      <td>2.006135</td>\n",
       "      <td>2.625767</td>\n",
       "      <td>1.662577</td>\n",
       "      <td>3.300613</td>\n",
       "      <td>3.155280</td>\n",
       "      <td>2.257669</td>\n",
       "      <td>2.705521</td>\n",
       "      <td>2.546584</td>\n",
       "      <td>...</td>\n",
       "      <td>2.024540</td>\n",
       "      <td>2.901235</td>\n",
       "      <td>2.000000</td>\n",
       "      <td>4.202454</td>\n",
       "      <td>2.171779</td>\n",
       "      <td>2.533742</td>\n",
       "      <td>1.693252</td>\n",
       "      <td>1.883436</td>\n",
       "      <td>2.147239</td>\n",
       "      <td>2.732919</td>\n",
       "    </tr>\n",
       "  </tbody>\n",
       "</table>\n",
       "<p>5 rows × 21 columns</p>\n",
       "</div>"
      ],
      "text/plain": [
       "         ipcrtiv   imprich   ipeqopt   ipshabt   impsafe   impdiff   ipfrule  \\\n",
       "region                                                                         \n",
       "99999   2.000000  6.000000  1.000000  3.000000  4.000000  2.000000  5.000000   \n",
       "AT11    2.726190  4.423529  1.940476  2.602410  2.000000  3.642857  2.951807   \n",
       "AT12    2.708333  4.111842  2.386813  2.671053  2.103070  3.288840  2.869757   \n",
       "AT13    2.258252  3.904669  1.867446  2.736842  2.223301  3.003899  3.159844   \n",
       "AT21    2.558282  4.104294  2.006135  2.625767  1.662577  3.300613  3.155280   \n",
       "\n",
       "         ipudrst   ipmodst   ipgdtim  ...   iphlppl   ipsuces   ipstrgv  \\\n",
       "region                                ...                                 \n",
       "99999   2.000000  3.000000  2.000000  ...  2.000000  2.000000  5.000000   \n",
       "AT11    2.494118  2.811765  2.717647  ...  1.951807  2.929412  2.130952   \n",
       "AT12    2.521930  3.026374  2.798246  ...  2.245077  3.037118  2.039911   \n",
       "AT13    2.127202  2.994163  2.526316  ...  2.040777  2.753398  2.365759   \n",
       "AT21    2.257669  2.705521  2.546584  ...  2.024540  2.901235  2.000000   \n",
       "\n",
       "         ipadvnt   ipbhprp   iprspot   iplylfr    impenv   imptrad    impfun  \n",
       "region                                                                        \n",
       "99999   5.000000  5.000000  5.000000  2.000000  1.000000  5.000000  3.000000  \n",
       "AT11    4.258824  2.082353  2.294118  1.529412  1.588235  1.870588  2.917647  \n",
       "AT12    4.048035  2.324503  2.447368  1.634573  1.772926  2.531729  2.888158  \n",
       "AT13    3.923977  2.430799  2.727984  1.581712  1.813592  3.001946  2.935922  \n",
       "AT21    4.202454  2.171779  2.533742  1.693252  1.883436  2.147239  2.732919  \n",
       "\n",
       "[5 rows x 21 columns]"
      ]
     },
     "execution_count": 24,
     "metadata": {},
     "output_type": "execute_result"
    }
   ],
   "source": [
    "# mean value per nut. reg means nutregion\n",
    "ess9reg = ess9.groupby('region').mean()\n",
    "ess9reg.head()\n",
    "# ppca for nan, https://stackoverflow.com/questions/29420737/pca-with-missing-values-in-python\n",
    "# https://ess-search.nsd.no/en/study/bdc7c350-1029-4cb3-9d5e-53f668b8fa74"
   ]
  },
  {
   "cell_type": "markdown",
   "id": "4dac83ee-32b4-4d28-b0a5-692b05d4b88b",
   "metadata": {},
   "source": [
    "### NUTS geo"
   ]
  },
  {
   "cell_type": "code",
   "execution_count": 26,
   "id": "004b556b-12ae-4e8a-bd69-0fb297a63797",
   "metadata": {},
   "outputs": [],
   "source": [
    "import geopandas as gpd\n",
    "#merge with nuts geo\n",
    "nuts = gpd.read_file(os.path.relpath('Data/NUTS_RG_20M_2021_4326-20220626.geojson'))"
   ]
  },
  {
   "cell_type": "code",
   "execution_count": 27,
   "id": "b90764d2-0dd7-42b0-8610-1c79a4d2dfe2",
   "metadata": {},
   "outputs": [],
   "source": [
    "gdf_ess9 = pd.merge(nuts, ess9reg, left_on = 'NUTS_ID', right_index = True)"
   ]
  },
  {
   "cell_type": "code",
   "execution_count": 33,
   "id": "cc062845-d506-43a4-adec-aa9011cedf07",
   "metadata": {},
   "outputs": [
    {
     "data": {
      "image/png": "[encoded data removed]",
      "text/plain": [
       "<Figure size 864x720 with 2 Axes>"
      ]
     },
     "metadata": {
      "needs_background": "light"
     },
     "output_type": "display_data"
    }
   ],
   "source": [
    "#Check it looks right\n",
    "fig, ax = plt.subplots(figsize=(12, 10))\n",
    "#euro.plot(ax=ax, )\n",
    "gdf_ess9.plot('impdiff', ax=ax, legend = True)\n",
    "gdf_nodes.plot(ax=ax, color = 'red') #london\n",
    "ax.axis('off')\n",
    "plt.axis('equal')\n",
    "plt.show()"
   ]
  },
  {
   "cell_type": "markdown",
   "id": "e32a3946-98ea-4ac4-8eff-083a54b54b7f",
   "metadata": {},
   "source": [
    "### Cosign Similarity"
   ]
  },
  {
   "cell_type": "code",
   "execution_count": null,
   "id": "dbaaf31e-ddc8-488c-8ca2-71c0032e519b",
   "metadata": {},
   "outputs": [],
   "source": [
    "ess9nodes = gpd.sjoin(gdf_nodes, gdf_ess9)"
   ]
  },
  {
   "cell_type": "code",
   "execution_count": null,
   "id": "3ef3afce-99f9-4f3b-b7a7-729ac152cc00",
   "metadata": {},
   "outputs": [],
   "source": [
    "jumps = [25, 26, 32, 33]\n",
    "\n",
    "for j in jumps:\n",
    "    level = jumps.index(j)\n",
    "    # retrieve the nodes in this jump\n",
    "    jump = pd.read_csv(os.path.relpath(\"run_spercolation_outputs/membTables/membership_p\"+str(j)+'.txt')) \n",
    "    jump['level'] = level\n",
    "    jump = jump[['level', 'node_id', 'cluster_id']]\n",
    "    \n",
    "    # subset clusters of a minimum size\n",
    "    sizes = pd.read_csv(os.path.relpath(\"run_spercolation_outputs/cluster_sizes/clust_size_p\"+str(j)+'.txt'))\n",
    "    clusters = sizes[sizes.cluster_size > 2] \n",
    "    nodes = pd.merge(jump, clusters, on='cluster_id') #.add_suffix(level) \n",
    "\n",
    "    # add the ess9 weights to the nodes in this jump\n",
    "    ess9jumpnodes = pd.merge(ess9nodes, nodes, how = 'right', left_index = True, right_on = 'node_id')\n",
    "    \n",
    "    # find the weighted average ess9 value for each cluster in this jump\n",
    "    ess9jumpclusters = ess9jumpnodes.groupby('cluster_id').mean().sort_values('cluster_size', ascending = False)\n",
    "    \n",
    "    # calculate similarity between two largest clusters\n",
    "    largest = ess9jumpclusters.iloc[[0]].loc[:,'ipcrtiv':'impfun']\n",
    "    larger = ess9jumpclusters.iloc[[1]].loc[:,'ipcrtiv':'impfun']\n",
    "    print(sk.pairwise.cosine_similarity(largest, larger))"
   ]
  },
  {
   "cell_type": "markdown",
   "id": "cbf95b5b-c029-4c8c-8d39-0fa958c8c55b",
   "metadata": {},
   "source": [
    "## TOC:\n",
    "* [Percolation](#Percolation)\n",
    "* [Tree](#Tree)\n",
    "* [Twitter](#Twitter)\n",
    "* [ESS-NUTS](#ESS)\n",
    "* [DNA](#DNA)\n",
    "* [Imagery](#Imagery)\n",
    "* [Bokeh](#Bokeh)"
   ]
  },
  {
   "cell_type": "markdown",
   "id": "e0a2e4e6-05c8-4e22-99a4-45c9099d505e",
   "metadata": {},
   "source": [
    "# DNA"
   ]
  },
  {
   "cell_type": "markdown",
   "id": "3a9ca25c-e3dd-456c-8d95-0dd12eba0106",
   "metadata": {},
   "source": [
    "### Colors"
   ]
  },
  {
   "cell_type": "code",
   "execution_count": null,
   "id": "be270ccf-3d18-4627-9ab0-6cb2d529fa8d",
   "metadata": {},
   "outputs": [],
   "source": [
    "novcolor = pd.read_csv(os.path.relpath(\"Data/ColorTablePCmap-20220627.txt\"), sep='\\t', header = None)\n",
    "novcolor.columns = ['country', 'color']\n",
    "#novcolor.loc[16,'color'] = 'red1'\n",
    "# https://r-charts.com/colors/\n",
    "novcolor.color[novcolor.color=='gold1'] = '#FFD700'\n",
    "novcolor.color[novcolor.color=='orange'] = '#FFA500'\n",
    "novcolor.color[novcolor.color=='tan3'] = '#CD853F'\n",
    "novcolor.color[novcolor.color=='yellow'] = '#FFFF00'\n",
    "novcolor.color[novcolor.color=='yellowgreen'] = '#9ACD32'\n",
    "novcolor.color[novcolor.color=='gold2'] = '#EEC900'\n",
    "novcolor.color[novcolor.color=='gold3'] = '#CDAD00'\n",
    "novcolor.color[novcolor.color=='aquamarine4'] = '#458B74'\n",
    "novcolor.color[novcolor.color=='aquamarine2'] = '#76EEC6'\n",
    "novcolor.color[novcolor.color=='aquamarine3'] = '#66CDAA'\n",
    "novcolor.color[novcolor.color=='darkolivegreen2'] = '#BCEE68'\n",
    "novcolor.color[novcolor.color=='green2'] = '#00EE00'\n",
    "novcolor.color[novcolor.color=='green3'] = '#00CD00'\n",
    "novcolor.color[novcolor.color=='green4'] = '#008B00'\n",
    "novcolor.color[novcolor.color=='green'] = '#00FF00'\n",
    "novcolor.color[novcolor.color=='pink'] = '#FFC0CB'\n",
    "novcolor.color[novcolor.color=='red1'] = '#FF0000'\n",
    "novcolor.color[novcolor.color=='lightpink3'] = '#CD8C95'\n",
    "novcolor.color[novcolor.color=='yellow'] = '#FFFF00'\n",
    "novcolor.color[novcolor.color=='sienna'] = '#A0522D'\n",
    "novcolor.color[novcolor.color=='dodgerblue1'] = '#1E90FF'\n",
    "novcolor.color[novcolor.color=='darkseagreen'] = '#8FBC8F'\n",
    "novcolor.color[novcolor.color=='dodgerblue3'] = '#1874CD'\n",
    "novcolor.color[novcolor.color=='cadetblue1'] = '#98F5FF'\n",
    "novcolor.color[novcolor.color=='deepskyblue2'] = '#00B2EE'\n",
    "novcolor.color[novcolor.color=='deepskyblue4'] = '#00688B'\n",
    "novcolor.color[novcolor.color=='cadetblue'] = '#5F9EA0'\n",
    "novcolor.color[novcolor.color=='cadetblue3'] = 'cadetblue3'\n",
    "novcolor.color[novcolor.color=='cadetblue2'] = '#8EE5EE'\n",
    "novcolor.color[novcolor.color=='deepskyblue1'] = '#00BFFF'\n",
    "novcolor.color[novcolor.color=='blue'] = '#0000FF'\n",
    "novcolor.color[novcolor.color=='darkorchid3'] = '#9A32CD'\n",
    "novcolor.color[novcolor.color=='violetred1'] = '#FF3E96'\n",
    "novcolor.color[novcolor.color=='violetred3'] = '#CD3278'\n",
    "novcolor.color[novcolor.color=='palevioletred2'] = '#EE799F'\n",
    "novcolor.color[novcolor.color=='orange'] = '#FFA500'\n",
    "novcolor.color[novcolor.color=='orangered1'] = '#FF4500'\n",
    "novcolor.color[novcolor.color=='springgreen4'] = '#008B45'\n",
    "novcolor.color[novcolor.color=='red'] = '#0000FF'"
   ]
  },
  {
   "cell_type": "markdown",
   "id": "20db946e-8942-4b01-9216-9ad3d78269d7",
   "metadata": {},
   "source": [
    "### Figure 1 Data"
   ]
  },
  {
   "cell_type": "code",
   "execution_count": null,
   "id": "aaad55ee-ff13-4c75-9fb3-58d030236f67",
   "metadata": {},
   "outputs": [],
   "source": [
    "pca = pd.read_csv(os.path.relpath(\"Data/Nov2008_PCA-20220622.txt\"), delimiter='\\t')\n",
    "pca = pd.merge(pca, novcolor, how = 'left', left_on = 'plabels', right_on = 'country')\n",
    "pcaCENT = gpd.GeoDataFrame(pca, geometry=gpd.points_from_xy(pca.longitude, pca.latitude))\n",
    "pcaCENT.plot(); #median PC1 and PC2 per country\n",
    "\n",
    "pcaPCA = gpd.GeoDataFrame(pca, #.drop(columns=['longitude','latitude'],inplace=True)\n",
    "                          geometry=gpd.points_from_xy(pca.PC1, pca.PC2))\n",
    "pcaPCA.plot(); #individuals PC1 and PC2\n",
    "\n",
    "pcaROT = gpd.GeoDataFrame(pca, #.drop(columns=['PC1','PC2'],inplace=True), \n",
    "                          geometry=gpd.points_from_xy(pca.RotNS, pca.RotEW))\n",
    "pcaROT.plot(); #individuals PC1 and PC2 rotated values"
   ]
  },
  {
   "cell_type": "code",
   "execution_count": null,
   "id": "b05c79d6-f17b-4b35-9af7-6ef717513d98",
   "metadata": {},
   "outputs": [],
   "source": [
    "eigs = pd.read_fwf(os.path.relpath(\"Data/NovPCAeigs-20220627.txt\"), width=[6,6,6,5,5])\n",
    "eigs.columns = ['ID', '4.093', '2.040', \n",
    "                '1.537', #'1.435', \n",
    "                '1.387', '1.344', '1.343', \n",
    "                '1.339', #'1.337',\n",
    "                '1.334', '1.331', '1.329', \n",
    "                '1.327', #'1.325', \n",
    "                '1.323', '1.322', '1.321', \n",
    "                '1.320', '1.319', '1.317',\n",
    "                'control']\n",
    "eigs[['1.537', '1.435']] = eigs['1.537'].str.split(expand=True)\n",
    "eigs[['1.339', '1.337']] = eigs['1.339'].str.split(expand=True)\n",
    "eigs[['1.327', '1.325']] = eigs['1.327'].str.split(expand=True)\n",
    "eigs[['ID', 'ID2']] = eigs['ID'].str.split(expand=True)\n",
    "eigs.drop(columns=['ID2', 'control'], inplace = True)\n",
    "eigs = eigs.astype({'ID': 'int32'})\n",
    "#eigs.set_index('DNAsample', inplace=True)"
   ]
  },
  {
   "cell_type": "markdown",
   "id": "2a23a48c-e039-450d-ae05-40147db00559",
   "metadata": {},
   "source": [
    "### Figure 2 Data"
   ]
  },
  {
   "cell_type": "code",
   "execution_count": null,
   "id": "349a3f51-2e9c-4b1c-91e2-761c3c223372",
   "metadata": {},
   "outputs": [],
   "source": [
    "# leave-one-out cross validation and the continuous assignment method\n",
    "predict = pd.read_csv(os.path.relpath(\"Data/Nov2008_predict-20220627.csv\"))\n",
    "predict = predict[['V1', 'V2', 'V3']]\n",
    "predict_pts = predict[['V2','V3']].values\n",
    "predict.columns = ['ID', 'Longitude', 'Latitude']\n",
    "predict = gpd.GeoDataFrame(predict, geometry=gpd.points_from_xy(predict.Longitude, predict.Latitude), crs = 'EPSG:4326')\n",
    "\n",
    "# locations used to train the assignment method\n",
    "true = pd.read_csv(os.path.relpath(\"Data/Nov2008_true-20220627.csv\"))\n",
    "true = true[['V1', 'V2', 'V3']]\n",
    "true.columns = ['ID', 'Longitude', 'Latitude']\n",
    "true = gpd.GeoDataFrame(true, geometry=gpd.points_from_xy(true.Longitude, true.Latitude), crs = 'EPSG:4326')"
   ]
  },
  {
   "cell_type": "markdown",
   "id": "80e35546-5a35-4d59-9160-a154571a4e44",
   "metadata": {},
   "source": [
    "## Voronoi"
   ]
  },
  {
   "cell_type": "code",
   "execution_count": null,
   "id": "e8d36ddf-16fa-4f17-b6c4-2737372e0327",
   "metadata": {},
   "outputs": [],
   "source": [
    "# from scipy.spatial import Voronoi, voronoi_plot_2d\n",
    "# vor = Voronoi(predict_pts)\n",
    "# voronoi_plot_2d(vor)\n",
    "## https://towardsdatascience.com/how-to-create-voronoi-regions-with-geospatial-data-in-python-adbb6c5f2134\n",
    "import contextily as ctx\n",
    "from shapely.ops import cascaded_union\n",
    "from geovoronoi.plotting import subplot_for_map, plot_voronoi_polys_with_points_in_area\n",
    "from geovoronoi import voronoi_regions_from_coords, points_to_coords"
   ]
  },
  {
   "cell_type": "code",
   "execution_count": null,
   "id": "ff19cd85-d443-4bd3-af75-bbcd847be9f9",
   "metadata": {},
   "outputs": [],
   "source": [
    "euro = gpd.read_file(os.path.relpath(\"Data/NUTS_RG_20M_2021_4326-20220626.geojson\"))\n",
    "euro = euro[euro.LEVL_CODE != 0].cx[-27:48, 34:80.78]\n",
    "#euro = gpd.clip(euro, bbox)\n",
    "#euro.crs\n",
    "euro = euro.dissolve().to_crs(epsg=4326)"
   ]
  },
  {
   "cell_type": "code",
   "execution_count": null,
   "id": "7cd96431-c34c-4ca5-b1db-39d6efbf952f",
   "metadata": {},
   "outputs": [],
   "source": [
    "#Check it looks right\n",
    "fig, ax = plt.subplots(figsize=(12, 10))\n",
    "euro.convex_hull.plot(ax=ax, color = 'skyblue')\n",
    "euro.plot(ax=ax, color='gray')\n",
    "predict.plot(ax=ax, markersize=3.5, color='black')\n",
    "ax.axis('off')\n",
    "plt.axis('equal')\n",
    "plt.show()"
   ]
  },
  {
   "cell_type": "code",
   "execution_count": null,
   "id": "071695f5-73b1-4392-8550-5ae650a8319a",
   "metadata": {},
   "outputs": [],
   "source": [
    "euro_union = cascaded_union(euro.convex_hull.geometry)\n",
    "predict_nparray = points_to_coords(predict.geometry)"
   ]
  },
  {
   "cell_type": "code",
   "execution_count": null,
   "id": "06146e69-8ebb-49a9-8623-a213e543294b",
   "metadata": {},
   "outputs": [],
   "source": [
    "# Calculate Voronoi Regions\n",
    "poly_shapes, pts = voronoi_regions_from_coords(predict_nparray, euro_union)\n",
    "#poly_shapes, pts, poly_to_pt_assignments \n",
    "\n",
    "fig, ax = subplot_for_map()\n",
    "plot_voronoi_polys_with_points_in_area(ax, euro_union, poly_shapes, pts)\n",
    "#ax, boundary_shape, poly_shapes, pts, poly_to_pt_assignments\n",
    "ax.set_title('Voronoi regions of Schools in Uppsala')\n",
    "plt.tight_layout()\n",
    "plt.show()"
   ]
  },
  {
   "cell_type": "code",
   "execution_count": null,
   "id": "283b3ad1-9ab3-4400-a05b-bc8d090a19e4",
   "metadata": {},
   "outputs": [],
   "source": [
    "vor = gpd.GeoDataFrame()\n",
    "for shape in poly_shapes:\n",
    "    new = gpd.GeoDataFrame(crs='EPSG:4326', geometry=[poly_shapes[shape]])\n",
    "    vor = vor.append(new)\n",
    "    \n",
    "vor = gpd.GeoDataFrame(vor, crs='EPSG:4326')\n",
    "vor_predict = gpd.sjoin(vor, predict)\n",
    "vor_eigs = pd.merge(vor_predict, eigs, on='ID', how='left')\n",
    "vor_eigs.rename(columns={'index_right':'vor_index'}, inplace=True)\n",
    "\n",
    "#Check it looks right\n",
    "fig, ax = plt.subplots(figsize=(12, 10))\n",
    "#euro.plot(ax=ax, )\n",
    "vor_eigs.plot(ax=ax)\n",
    "gdf_nodes.plot(ax=ax, color = 'orange') #london\n",
    "ax.axis('off')\n",
    "plt.axis('equal')\n",
    "plt.show()"
   ]
  },
  {
   "cell_type": "markdown",
   "id": "b9ce2774-7021-4761-b50a-8a1768cc7095",
   "metadata": {},
   "source": [
    "## Cosign Similarity"
   ]
  },
  {
   "cell_type": "code",
   "execution_count": null,
   "id": "f6839615-3e6f-4727-932b-3c0abd3fda34",
   "metadata": {},
   "outputs": [],
   "source": [
    "fig, ax = plt.subplots(figsize=(12, 10))\n",
    "#euro.plot(ax=ax, )\n",
    "vor_eigs.plot(ax=ax)\n",
    "gdf_nodes.plot(ax=ax, color = 'orange') #london\n",
    "ax.axis('off')\n",
    "plt.axis('equal')\n",
    "plt.show()"
   ]
  },
  {
   "cell_type": "code",
   "execution_count": null,
   "id": "15bbdf3f-2a00-4c2b-b88a-5a1e4163caa1",
   "metadata": {},
   "outputs": [],
   "source": [
    "DNAnodes = gpd.sjoin(gdf_nodes, vor_eigs, how='left')\n",
    "DNAnodes = DNAnodes.loc[:, '1.537':'1.325']\n",
    "#novcolor\n",
    "# loop cosign\n",
    "# ask laos for data\n",
    "#DNAnodes.columns"
   ]
  },
  {
   "cell_type": "code",
   "execution_count": null,
   "id": "10bef824-13c7-4f0e-9568-150b47833f2f",
   "metadata": {},
   "outputs": [],
   "source": [
    "jumps = [25, 26, 32, 33]\n",
    "\n",
    "for j in jumps:\n",
    "    level = jumps.index(j)\n",
    "    # retrieve the nodes in this jump\n",
    "    jump = pd.read_csv(os.path.relpath(\"run_spercolation_outputs/membTables/membership_p\"+str(j)+'.txt')) \n",
    "    jump['level'] = level\n",
    "    jump = jump[['level', 'node_id', 'cluster_id']]\n",
    "    \n",
    "    # subset clusters of a minimum size\n",
    "    sizes = pd.read_csv(os.path.relpath(\"run_spercolation_outputs/cluster_sizes/clust_size_p\"+str(j)+'.txt'))\n",
    "    clusters = sizes[sizes.cluster_size > 2] \n",
    "    nodes = pd.merge(jump, clusters, on='cluster_id') #.add_suffix(level) \n",
    "\n",
    "    # add the DNA PC components to the nodes in this jump\n",
    "    DNAjumpnodes = pd.merge(DNAnodes, nodes, how = 'right', left_index = True, right_on = 'node_id')\n",
    "    \n",
    "    # find the weighted average PC values for each cluster in this jump\n",
    "    DNAjumpclusters = DNAjumpnodes.groupby('cluster_id').mean().sort_values('cluster_size', ascending = False)\n",
    "    \n",
    "    # cosign similarity between two largest clusters\n",
    "    largest = DNAjumpclusters.iloc[[0]].loc[:,'1.387':'1.317']\n",
    "    larger = DNAjumpclusters.iloc[[1]].loc[:,'1.387':'1.317']\n",
    "    print(sk.pairwise.cosine_similarity(largest, larger))"
   ]
  },
  {
   "cell_type": "markdown",
   "id": "1a96f058-4b6f-4c16-8c83-4f2d279561ce",
   "metadata": {},
   "source": [
    "## TOC:\n",
    "* [Percolation](#Percolation)\n",
    "* [Tree](#Tree)\n",
    "* [Twitter](#Twitter)\n",
    "* [ESS-NUTS](#ESS)\n",
    "* [DNA](#DNA)\n",
    "* [Imagery](#Imagery)\n",
    "* [Bokeh](#Bokeh)"
   ]
  },
  {
   "cell_type": "markdown",
   "id": "ff970c6a-670f-4081-8b1f-38af38396c78",
   "metadata": {},
   "source": [
    "## Imagery"
   ]
  },
  {
   "cell_type": "markdown",
   "id": "7227584a-0078-46a7-bf3d-e582f7b575ef",
   "metadata": {},
   "source": [
    "# Bokeh"
   ]
  },
  {
   "cell_type": "code",
   "execution_count": null,
   "id": "378c2d01-417a-4c6f-93be-efaf49d9e593",
   "metadata": {},
   "outputs": [],
   "source": [
    "from bokeh.io import output_notebook, show, output_file, show, output_notebook, push_notebook, export_png\n",
    "from bokeh.plotting import figure\n",
    "from bokeh.models import ColumnDataSource, HoverTool\n",
    "from bokeh.palettes import Spectral4, brewer\n",
    "from bokeh.models import CustomJS, Dropdown, ColumnDataSource, GeoJSONDataSource, LinearColorMapper, ColorBar, HoverTool\n",
    "\n",
    "\n",
    "from bokeh.tile_providers import CARTODBPOSITRON, get_provider\n",
    "\n",
    "from bokeh.io import output_file, show, output_notebook, push_notebook, export_png\n",
    "from bokeh.models import ColumnDataSource, GeoJSONDataSource, LinearColorMapper, ColorBar, HoverTool\n",
    "\n",
    "\n",
    "\n",
    "output_notebook()"
   ]
  },
  {
   "cell_type": "code",
   "execution_count": 1,
   "id": "104f465f-278a-4f63-875b-30f865c0d276",
   "metadata": {},
   "outputs": [],
   "source": [
    "import bokeh"
   ]
  },
  {
   "cell_type": "code",
   "execution_count": null,
   "id": "c5e5e443-fb39-4a8e-b46b-eee4c5ac1d78",
   "metadata": {},
   "outputs": [],
   "source": [
    "from bokeh.io import output_file, show\n",
    "from bokeh.plotting import figure, from_networkx\n",
    "\n",
    "plot = figure(title=\"Networkx Integration Demonstration\", x_range=(-1.1,1.1), y_range=(-1.1,1.1),\n",
    "              tools=\"\", toolbar_location=None)\n",
    "\n",
    "graph = from_networkx(G, nx.spring_layout, scale=2, center=(0,0))\n",
    "plot.renderers.append(graph)\n",
    "\n",
    "output_file(\"networkx_graph.html\")\n",
    "show(plot)"
   ]
  },
  {
   "cell_type": "markdown",
   "id": "a8af92dd-6b4b-4570-a097-275251ca2c12",
   "metadata": {},
   "source": [
    "# Tree"
   ]
  },
  {
   "cell_type": "code",
   "execution_count": 38,
   "id": "9200464a-a6c3-4bea-8073-e6f5312cd6c9",
   "metadata": {},
   "outputs": [],
   "source": [
    "jumps = [25, 26, 32, 33]\n",
    "\n",
    "for j in jumps:\n",
    "    # tree level of this jump\n",
    "    level = jumps.index(j)\n",
    "    # retrieve the nodes in this jump\n",
    "    jump = pd.read_csv(os.path.relpath(\"run_spercolation_outputs/membTables/membership_p\"+str(j)+'.txt')) \n",
    "    jump['level'] = level\n",
    "    jump = jump[['level', 'node_id', 'cluster_id']]\n",
    "    \n",
    "    # subset clusters of a minimum size\n",
    "    sizes = pd.read_csv(os.path.relpath(\"run_spercolation_outputs/cluster_sizes/clust_size_p\"+str(j)+'.txt'))\n",
    "    clusters = sizes[sizes.cluster_size > 2] \n",
    "    nodes = pd.merge(jump, clusters, on='cluster_id').add_suffix(level) \n",
    "    \n",
    "    # first jump (tree roottips, smallest cluster sizes)\n",
    "    if level == 0:\n",
    "        forest = nodes.copy()\n",
    "        edgelist = pd.DataFrame(columns=['Child','Parent','Child_Level','Parent_Level'])\n",
    "        sizelist = forest[['cluster_id' + str(level), 'cluster_size' + str(level), 'level' + str(level)]]\n",
    "        sizelist = sizelist[sizelist.duplicated() == False]\n",
    "        sizelist.columns = ['Cluster','Size','Level']\n",
    "    \n",
    "    else:\n",
    "        # in the cluster forest, branches that don't make it to the apex die\n",
    "        forest = pd.merge(forest, nodes, how = 'right',\n",
    "                          left_on = forest.columns[1], right_on = nodes.columns[1])\n",
    "        \n",
    "        edgelist_ = forest[['cluster_id' + str(level - 1), 'cluster_id' + str(level), 'level' + str(level - 1), 'level' + str(level)]]\n",
    "        edgelist_ = edgelist_[edgelist_.duplicated() == False]\n",
    "        edgelist_.columns = ['Child','Parent','Child_Level','Parent_Level']\n",
    "        edgelist = pd.concat([edgelist, edgelist_])\n",
    "        \n",
    "        sizelist_ = forest[['cluster_id' + str(level), 'cluster_size' + str(level), 'level' + str(level)]]\n",
    "        sizelist_ = sizelist_[sizelist_.duplicated() == False]\n",
    "        sizelist_.columns = ['Cluster','Size','Level']\n",
    "        sizelist = pd.concat([sizelist, sizelist_])"
   ]
  },
  {
   "cell_type": "code",
   "execution_count": 68,
   "id": "1a55b129-6924-44b2-a7fa-abd793e2b15e",
   "metadata": {},
   "outputs": [],
   "source": [
    "sizelist['Cluster.'] = sizelist['Level'].astype(str) + '.' + sizelist['Cluster'].astype(str)\n",
    "#edgelist[edgelist['Child']==edgelist['Parent']].sample(5)\n",
    "edgelist['Child.'] = edgelist['Child_Level'].astype(str) + '.' + edgelist['Child'].astype(str)\n",
    "edgelist['Parent.'] = edgelist['Parent_Level'].astype(str) + '.' + edgelist['Parent'].astype(str)"
   ]
  },
  {
   "cell_type": "code",
   "execution_count": 77,
   "id": "9c693228-6985-485b-85e8-d9462e4c20f2",
   "metadata": {},
   "outputs": [
    {
     "name": "stderr",
     "output_type": "stream",
     "text": [
      "/opt/conda/envs/sds2021/lib/python3.9/site-packages/pandas/core/frame.py:3607: SettingWithCopyWarning: \n",
      "A value is trying to be set on a copy of a slice from a DataFrame.\n",
      "Try using .loc[row_indexer,col_indexer] = value instead\n",
      "\n",
      "See the caveats in the documentation: https://pandas.pydata.org/pandas-docs/stable/user_guide/indexing.html#returning-a-view-versus-a-copy\n",
      "  self._set_item(key, value)\n"
     ]
    }
   ],
   "source": [
    "c = edgelist[edgelist.Parent_Level==1]\n",
    "a = edgelist[edgelist.Parent_Level>1]\n",
    "b = a[a.Child.notna()]\n",
    "b['Child'] = b['Child'].astype(int)\n",
    "b['Child'] = 'L'+ b['Parent_Level'].astype(str) + b['Child'].astype(str)\n",
    "\n",
    "d = pd.concat([c,b])\n",
    "d[['Child','Parent']].to_csv(os.path.relpath('tree_outputs/tree_graph.txt'))"
   ]
  },
  {
   "cell_type": "code",
   "execution_count": null,
   "id": "893f165c-99a6-4dfb-b0ad-b22ce413826c",
   "metadata": {},
   "outputs": [],
   "source": []
  },
  {
   "cell_type": "markdown",
   "id": "c3726005-e583-42da-a9a2-828d3fae34cb",
   "metadata": {},
   "source": [
    "### Network"
   ]
  },
  {
   "cell_type": "code",
   "execution_count": null,
   "id": "fadbd7cb-98e0-4355-a87f-ac70983b865a",
   "metadata": {},
   "outputs": [],
   "source": [
    "G = nx.from_pandas_edgelist(edgelist, 'Child.', 'Parent.')"
   ]
  },
  {
   "cell_type": "raw",
   "id": "0acb99a9-f8f6-4f90-9a5d-c7ffc874b37e",
   "metadata": {},
   "source": [
    "https://stackoverflow.com/questions/30903226/what-is-the-equivalent-to-rpart-plot-in-python-i-want-to-visualize-the-results\n",
    "https://stackoverflow.com/questions/57512155/how-to-draw-a-tree-more-beautifully-in-networkx\n",
    "https://stackoverflow.com/questions/29586520/can-one-get-hierarchical-graphs-from-networkx-with-python-3\n",
    "https://stackoverflow.com/questions/12977517/python-equivalent-of-d3-js"
   ]
  },
  {
   "cell_type": "code",
   "execution_count": null,
   "id": "1c4f82be-4777-4d34-83ec-ed90b95631dd",
   "metadata": {},
   "outputs": [],
   "source": [
    "pip install pydot"
   ]
  },
  {
   "cell_type": "code",
   "execution_count": null,
   "id": "623d82e3-d6f6-4266-8eef-9efd7bc30d7b",
   "metadata": {},
   "outputs": [],
   "source": [
    "import pydot\n",
    "from networkx.drawing.nx_pydot import graphviz_layout\n",
    "from networkx import pygraphviz_layout"
   ]
  },
  {
   "cell_type": "code",
   "execution_count": null,
   "id": "c50f86df-d5be-45a8-95e1-bd29a77d4d62",
   "metadata": {},
   "outputs": [],
   "source": [
    "#pos = graphviz_layout(G, prog=\"dot\")\n",
    "\n",
    "nx.draw(G,\n",
    "        pos = pygraphviz_layout(G),\n",
    "        #with_labels = True,\n",
    "        node_color='blue',\n",
    "        font_color=\"white\",\n",
    "        font_weight='bold')\n",
    "#plt.savefig('hierarchy.png')"
   ]
  },
  {
   "cell_type": "code",
   "execution_count": null,
   "id": "530ed716-a4ec-457f-82eb-4076a1b11808",
   "metadata": {},
   "outputs": [],
   "source": [
    "#https://networkx.org/documentation/stable/reference/algorithms/tree.html\n",
    "print(\n",
    "    nx.is_tree(G),\n",
    "    nx.is_forest(G),\n",
    "    #nx.is_arborescence(G),\n",
    "    #nx.is_branching(G)\n",
    ")\n"
   ]
  },
  {
   "cell_type": "code",
   "execution_count": null,
   "id": "9cb6afbb-cc41-4232-9d95-9d97c5ad3351",
   "metadata": {},
   "outputs": [],
   "source": []
  }
 ],
 "metadata": {
  "kernelspec": {
   "display_name": "Python 3 (ipykernel)",
   "language": "python",
   "name": "python3"
  },
  "language_info": {
   "codemirror_mode": {
    "name": "ipython",
    "version": 3
   },
   "file_extension": ".py",
   "mimetype": "text/x-python",
   "name": "python",
   "nbconvert_exporter": "python",
   "pygments_lexer": "ipython3",
   "version": "3.9.6"
  }
 },
 "nbformat": 4,
 "nbformat_minor": 5
}
